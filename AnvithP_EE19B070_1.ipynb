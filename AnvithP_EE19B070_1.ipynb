{
 "cells": [
  {
   "cell_type": "markdown",
   "metadata": {},
   "source": [
    "# Question 1"
   ]
  },
  {
   "cell_type": "code",
   "execution_count": 28,
   "metadata": {},
   "outputs": [
    {
     "name": "stdout",
     "output_type": "stream",
     "text": [
      "1.1774697402491188\n"
     ]
    }
   ],
   "source": [
    "import numpy as np\n",
    "\n",
    "#creates random y and y_hat of length 'n'\n",
    "n=100\n",
    "y_hat = np.random.rand(n)\n",
    "y = np.random.rand(n)    \n",
    "y = (y/0.5)\n",
    "y = y.astype(int)\n",
    "\n",
    "'''\n",
    "Test Case 2:\n",
    "y_hat = np.array([0.23,0.54,0.61,0.89])\n",
    "y = np.array([0,0,1,1])\n",
    "'''\n",
    "\n",
    "\n",
    "#dimensions should be equal but can be anything\n",
    "def cross_entropy(y,y_hat):\n",
    "    O = (-1/(len(y))) * (y*np.log2(y_hat) + (1-y)*np.log2(1-y_hat))\n",
    "    return np.sum(O)\n",
    "\n",
    "print(cross_entropy(y,y_hat))"
   ]
  },
  {
   "cell_type": "markdown",
   "metadata": {},
   "source": [
    "# Question 2"
   ]
  },
  {
   "cell_type": "code",
   "execution_count": null,
   "metadata": {},
   "outputs": [],
   "source": [
    "n = [10,20,10,40,50,60,70]\n",
    "t=50\n",
    "\n",
    "class n_t:\n",
    "    def Indices(self,n,t):\n",
    "        d = dict()\n",
    "        k=1\n",
    "        for i in range(len(n)):\n",
    "            for j in range(len(n)):\n",
    "                if n[i]+n[j]==t:\n",
    "                    d[k] = [i,j]\n",
    "                    k+=1\n",
    "        return(d)            \n",
    "        \n",
    "test = n_t()\n",
    "print(test.Indices(n,t))"
   ]
  }
 ],
 "metadata": {
  "kernelspec": {
   "display_name": "Python 3",
   "language": "python",
   "name": "python3"
  },
  "language_info": {
   "codemirror_mode": {
    "name": "ipython",
    "version": 3
   },
   "file_extension": ".py",
   "mimetype": "text/x-python",
   "name": "python",
   "nbconvert_exporter": "python",
   "pygments_lexer": "ipython3",
   "version": "3.8.5"
  }
 },
 "nbformat": 4,
 "nbformat_minor": 4
}
